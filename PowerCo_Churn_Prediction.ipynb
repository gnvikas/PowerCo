{
  "nbformat": 4,
  "nbformat_minor": 0,
  "metadata": {
    "colab": {
      "name": "PowerCo Churn Prediction.ipynb",
      "provenance": [],
      "collapsed_sections": []
    },
    "kernelspec": {
      "name": "python3",
      "display_name": "Python 3"
    },
    "language_info": {
      "name": "python"
    }
  },
  "cells": [
    {
      "cell_type": "code",
      "execution_count": null,
      "metadata": {
        "id": "OVQKsH03f8wY"
      },
      "outputs": [],
      "source": [
        "import numpy as np\n",
        "import scipy.stats as stats\n",
        "import pandas as pd\n",
        "import matplotlib.pyplot as plt\n",
        "from matplotlib import pyplot\n",
        "import seaborn as sns\n",
        "from sklearn.linear_model import LogisticRegression\n",
        "from sklearn.impute import SimpleImputer\n",
        "from sklearn.decomposition import PCA\n",
        "from sklearn.preprocessing import OneHotEncoder\n",
        "from sklearn import metrics\n",
        "from datetime import datetime\n",
        "from sklearn.model_selection import train_test_split\n",
        "import xgboost as xgb\n",
        "from sklearn.model_selection import StratifiedKFold\n",
        "from sklearn.model_selection import GridSearchCV\n",
        "from sklearn.metrics import confusion_matrix\n",
        "from sklearn.metrics import roc_auc_score\n",
        "from sklearn.metrics import recall_score\n",
        "from sklearn.ensemble import RandomForestClassifier\n",
        "from xgboost import plot_importance\n",
        "from imblearn.over_sampling import SMOTE\n",
        "from sklearn.preprocessing import StandardScaler\n",
        "import pickle\n",
        "plt.style.use('ggplot')"
      ]
    },
    {
      "cell_type": "code",
      "source": [
        "from google.colab import drive\n",
        "drive.mount('/content/drive')"
      ],
      "metadata": {
        "colab": {
          "base_uri": "https://localhost:8080/"
        },
        "id": "F8CcVkEWf9aw",
        "outputId": "f27794df-3f56-4727-8100-e960c047dba8"
      },
      "execution_count": null,
      "outputs": [
        {
          "output_type": "stream",
          "name": "stdout",
          "text": [
            "Drive already mounted at /content/drive; to attempt to forcibly remount, call drive.mount(\"/content/drive\", force_remount=True).\n"
          ]
        }
      ]
    },
    {
      "cell_type": "code",
      "source": [
        "df_train_data = pd.read_csv('/content/drive/MyDrive/Takehome-pipecandy/ml_case_training_data.csv')\n",
        "df_train_hist = pd.read_csv('/content/drive/MyDrive/Takehome-pipecandy/ml_case_training_hist_data.csv')\n",
        "df_train_out = pd.read_csv('/content/drive/MyDrive/Takehome-pipecandy/ml_case_training_output.csv')\n",
        "df_test_data = pd.read_csv('/content/drive/MyDrive/Takehome-pipecandy/ml_case_test_data.csv')\n",
        "df_test_hist = pd.read_csv('/content/drive/MyDrive/Takehome-pipecandy/ml_case_test_hist_data.csv')\n",
        "df_test_out = pd.read_csv('/content/drive/MyDrive/Takehome-pipecandy/ml_case_test_output_template.csv')\n"
      ],
      "metadata": {
        "id": "zRQyZIWff-vH"
      },
      "execution_count": null,
      "outputs": []
    },
    {
      "cell_type": "code",
      "source": [
        "#(df_train_data.isnull().sum()*100 / df_train_data.shape[0]).sort_values()"
      ],
      "metadata": {
        "id": "5ZHuutpugPS6"
      },
      "execution_count": null,
      "outputs": []
    },
    {
      "cell_type": "code",
      "source": [
        "df_train_data.drop(['campaign_disc_ele','forecast_cons','date_first_activ','forecast_base_bill_ele','forecast_base_bill_year','forecast_bill_12m','activity_new'],axis=1,inplace=True)"
      ],
      "metadata": {
        "id": "KMoeRHZAgTql"
      },
      "execution_count": null,
      "outputs": []
    },
    {
      "cell_type": "code",
      "source": [
        "df_train = pd.merge(df_train_data, df_train_out, on=[\"id\"])\n",
        "assert df_train['id'].nunique() == df_train.shape[0], \"Ids in dataframe are not unique\"\n",
        "df_train['channel_sales'] = df_train['channel_sales'].fillna('new')\n",
        "df_train[['date_end','date_modif_prod','date_renewal']] = df_train[['date_end','date_modif_prod','date_renewal']].fillna(method='ffill')"
      ],
      "metadata": {
        "id": "FCwvdlQ8gZVl"
      },
      "execution_count": null,
      "outputs": []
    },
    {
      "cell_type": "code",
      "source": [
        "origin_up_imputer = SimpleImputer(missing_values=np.nan, strategy='most_frequent')\n",
        "df_train[['origin_up']] = origin_up_imputer.fit_transform(df_train[['origin_up']])\n",
        "float_imputer = SimpleImputer(missing_values=np.nan, strategy='mean')\n",
        "for attr in ['pow_max','net_margin','margin_net_pow_ele','margin_gross_pow_ele','forecast_price_energy_p1','forecast_price_pow_p1','forecast_price_energy_p2','forecast_discount_energy']:\n",
        "  df_train[[attr]] = float_imputer.fit_transform(df_train[[attr]])  "
      ],
      "metadata": {
        "id": "3pHBCpZngbgf"
      },
      "execution_count": null,
      "outputs": []
    },
    {
      "cell_type": "code",
      "source": [
        "include = [cols for cols in df_train.columns if np.issubdtype(df_train[cols].dtype,np.number)]\n",
        "df_train.loc[:,include] = df_train.loc[:,include].apply(abs)\n",
        "df_train.describe()"
      ],
      "metadata": {
        "colab": {
          "base_uri": "https://localhost:8080/",
          "height": 364
        },
        "id": "AY4SmE-Aghyd",
        "outputId": "073eb17d-9b48-49a7-c6ae-97112918f506"
      },
      "execution_count": null,
      "outputs": [
        {
          "output_type": "execute_result",
          "data": {
            "text/plain": [
              "           cons_12m  cons_gas_12m  cons_last_month  forecast_cons_12m  \\\n",
              "count  1.609600e+04  1.609600e+04     1.609600e+04       16096.000000   \n",
              "mean   1.948634e+05  3.191290e+04     1.960191e+04        2379.843132   \n",
              "std    6.794982e+05  1.775882e+05     8.232346e+04        4029.614839   \n",
              "min    0.000000e+00  0.000000e+00     0.000000e+00           0.000000   \n",
              "25%    5.923750e+03  0.000000e+00     0.000000e+00         514.725000   \n",
              "50%    1.536600e+04  0.000000e+00     9.180000e+02        1182.030000   \n",
              "75%    5.023900e+04  0.000000e+00     4.165250e+03        2695.565000   \n",
              "max    1.609711e+07  4.188440e+06     4.538720e+06      103801.930000   \n",
              "\n",
              "       forecast_cons_year  forecast_discount_energy  forecast_meter_rent_12m  \\\n",
              "count        16096.000000              16096.000000             16096.000000   \n",
              "mean          1929.919545                  0.991547                70.356164   \n",
              "std           5249.120196                  5.140728                78.982102   \n",
              "min              0.000000                  0.000000                 0.000000   \n",
              "25%              0.000000                  0.000000                16.230000   \n",
              "50%            385.000000                  0.000000                19.440000   \n",
              "75%           2001.250000                  0.000000               131.472500   \n",
              "max         175375.000000                 50.000000              2411.690000   \n",
              "\n",
              "       forecast_price_energy_p1  forecast_price_energy_p2  \\\n",
              "count              16096.000000              16096.000000   \n",
              "mean                   0.135901                  0.052951   \n",
              "std                    0.026149                  0.048427   \n",
              "min                    0.000000                  0.000000   \n",
              "25%                    0.115237                  0.000000   \n",
              "50%                    0.142881                  0.085917   \n",
              "75%                    0.146348                  0.098837   \n",
              "max                    0.273963                  0.195975   \n",
              "\n",
              "       forecast_price_pow_p1      imp_cons  margin_gross_pow_ele  \\\n",
              "count           16096.000000  16096.000000          16096.000000   \n",
              "mean               43.533511    198.560282             23.624115   \n",
              "std                 5.191682    493.393222             22.532861   \n",
              "min                 0.000000      0.000000              0.000000   \n",
              "25%                40.606701      0.000000             12.360000   \n",
              "50%                44.311378     45.340000             21.090000   \n",
              "75%                44.311378    218.882500             29.640000   \n",
              "max                59.444710  15042.790000            525.540000   \n",
              "\n",
              "       margin_net_pow_ele   nb_prod_act    net_margin  num_years_antig  \\\n",
              "count        16096.000000  16096.000000  16096.000000     16096.000000   \n",
              "mean            24.177352      1.347788    222.921309         5.030629   \n",
              "std             25.587928      1.459808    363.591346         1.676101   \n",
              "min              0.000000      1.000000      0.000000         1.000000   \n",
              "25%             12.360000      1.000000     53.087500         4.000000   \n",
              "50%             21.120000      1.000000    121.345000         5.000000   \n",
              "75%             29.760000      1.000000    277.192500         6.000000   \n",
              "max            615.660000     32.000000  24570.650000        16.000000   \n",
              "\n",
              "            pow_max         churn  \n",
              "count  16096.000000  16096.000000  \n",
              "mean      20.604131      0.099093  \n",
              "std       21.770392      0.298796  \n",
              "min        1.000000      0.000000  \n",
              "25%       12.500000      0.000000  \n",
              "50%       13.856000      0.000000  \n",
              "75%       19.800000      0.000000  \n",
              "max      500.000000      1.000000  "
            ],
            "text/html": [
              "\n",
              "  <div id=\"df-f0841036-9fe8-4a3a-a883-80bf47336254\">\n",
              "    <div class=\"colab-df-container\">\n",
              "      <div>\n",
              "<style scoped>\n",
              "    .dataframe tbody tr th:only-of-type {\n",
              "        vertical-align: middle;\n",
              "    }\n",
              "\n",
              "    .dataframe tbody tr th {\n",
              "        vertical-align: top;\n",
              "    }\n",
              "\n",
              "    .dataframe thead th {\n",
              "        text-align: right;\n",
              "    }\n",
              "</style>\n",
              "<table border=\"1\" class=\"dataframe\">\n",
              "  <thead>\n",
              "    <tr style=\"text-align: right;\">\n",
              "      <th></th>\n",
              "      <th>cons_12m</th>\n",
              "      <th>cons_gas_12m</th>\n",
              "      <th>cons_last_month</th>\n",
              "      <th>forecast_cons_12m</th>\n",
              "      <th>forecast_cons_year</th>\n",
              "      <th>forecast_discount_energy</th>\n",
              "      <th>forecast_meter_rent_12m</th>\n",
              "      <th>forecast_price_energy_p1</th>\n",
              "      <th>forecast_price_energy_p2</th>\n",
              "      <th>forecast_price_pow_p1</th>\n",
              "      <th>imp_cons</th>\n",
              "      <th>margin_gross_pow_ele</th>\n",
              "      <th>margin_net_pow_ele</th>\n",
              "      <th>nb_prod_act</th>\n",
              "      <th>net_margin</th>\n",
              "      <th>num_years_antig</th>\n",
              "      <th>pow_max</th>\n",
              "      <th>churn</th>\n",
              "    </tr>\n",
              "  </thead>\n",
              "  <tbody>\n",
              "    <tr>\n",
              "      <th>count</th>\n",
              "      <td>1.609600e+04</td>\n",
              "      <td>1.609600e+04</td>\n",
              "      <td>1.609600e+04</td>\n",
              "      <td>16096.000000</td>\n",
              "      <td>16096.000000</td>\n",
              "      <td>16096.000000</td>\n",
              "      <td>16096.000000</td>\n",
              "      <td>16096.000000</td>\n",
              "      <td>16096.000000</td>\n",
              "      <td>16096.000000</td>\n",
              "      <td>16096.000000</td>\n",
              "      <td>16096.000000</td>\n",
              "      <td>16096.000000</td>\n",
              "      <td>16096.000000</td>\n",
              "      <td>16096.000000</td>\n",
              "      <td>16096.000000</td>\n",
              "      <td>16096.000000</td>\n",
              "      <td>16096.000000</td>\n",
              "    </tr>\n",
              "    <tr>\n",
              "      <th>mean</th>\n",
              "      <td>1.948634e+05</td>\n",
              "      <td>3.191290e+04</td>\n",
              "      <td>1.960191e+04</td>\n",
              "      <td>2379.843132</td>\n",
              "      <td>1929.919545</td>\n",
              "      <td>0.991547</td>\n",
              "      <td>70.356164</td>\n",
              "      <td>0.135901</td>\n",
              "      <td>0.052951</td>\n",
              "      <td>43.533511</td>\n",
              "      <td>198.560282</td>\n",
              "      <td>23.624115</td>\n",
              "      <td>24.177352</td>\n",
              "      <td>1.347788</td>\n",
              "      <td>222.921309</td>\n",
              "      <td>5.030629</td>\n",
              "      <td>20.604131</td>\n",
              "      <td>0.099093</td>\n",
              "    </tr>\n",
              "    <tr>\n",
              "      <th>std</th>\n",
              "      <td>6.794982e+05</td>\n",
              "      <td>1.775882e+05</td>\n",
              "      <td>8.232346e+04</td>\n",
              "      <td>4029.614839</td>\n",
              "      <td>5249.120196</td>\n",
              "      <td>5.140728</td>\n",
              "      <td>78.982102</td>\n",
              "      <td>0.026149</td>\n",
              "      <td>0.048427</td>\n",
              "      <td>5.191682</td>\n",
              "      <td>493.393222</td>\n",
              "      <td>22.532861</td>\n",
              "      <td>25.587928</td>\n",
              "      <td>1.459808</td>\n",
              "      <td>363.591346</td>\n",
              "      <td>1.676101</td>\n",
              "      <td>21.770392</td>\n",
              "      <td>0.298796</td>\n",
              "    </tr>\n",
              "    <tr>\n",
              "      <th>min</th>\n",
              "      <td>0.000000e+00</td>\n",
              "      <td>0.000000e+00</td>\n",
              "      <td>0.000000e+00</td>\n",
              "      <td>0.000000</td>\n",
              "      <td>0.000000</td>\n",
              "      <td>0.000000</td>\n",
              "      <td>0.000000</td>\n",
              "      <td>0.000000</td>\n",
              "      <td>0.000000</td>\n",
              "      <td>0.000000</td>\n",
              "      <td>0.000000</td>\n",
              "      <td>0.000000</td>\n",
              "      <td>0.000000</td>\n",
              "      <td>1.000000</td>\n",
              "      <td>0.000000</td>\n",
              "      <td>1.000000</td>\n",
              "      <td>1.000000</td>\n",
              "      <td>0.000000</td>\n",
              "    </tr>\n",
              "    <tr>\n",
              "      <th>25%</th>\n",
              "      <td>5.923750e+03</td>\n",
              "      <td>0.000000e+00</td>\n",
              "      <td>0.000000e+00</td>\n",
              "      <td>514.725000</td>\n",
              "      <td>0.000000</td>\n",
              "      <td>0.000000</td>\n",
              "      <td>16.230000</td>\n",
              "      <td>0.115237</td>\n",
              "      <td>0.000000</td>\n",
              "      <td>40.606701</td>\n",
              "      <td>0.000000</td>\n",
              "      <td>12.360000</td>\n",
              "      <td>12.360000</td>\n",
              "      <td>1.000000</td>\n",
              "      <td>53.087500</td>\n",
              "      <td>4.000000</td>\n",
              "      <td>12.500000</td>\n",
              "      <td>0.000000</td>\n",
              "    </tr>\n",
              "    <tr>\n",
              "      <th>50%</th>\n",
              "      <td>1.536600e+04</td>\n",
              "      <td>0.000000e+00</td>\n",
              "      <td>9.180000e+02</td>\n",
              "      <td>1182.030000</td>\n",
              "      <td>385.000000</td>\n",
              "      <td>0.000000</td>\n",
              "      <td>19.440000</td>\n",
              "      <td>0.142881</td>\n",
              "      <td>0.085917</td>\n",
              "      <td>44.311378</td>\n",
              "      <td>45.340000</td>\n",
              "      <td>21.090000</td>\n",
              "      <td>21.120000</td>\n",
              "      <td>1.000000</td>\n",
              "      <td>121.345000</td>\n",
              "      <td>5.000000</td>\n",
              "      <td>13.856000</td>\n",
              "      <td>0.000000</td>\n",
              "    </tr>\n",
              "    <tr>\n",
              "      <th>75%</th>\n",
              "      <td>5.023900e+04</td>\n",
              "      <td>0.000000e+00</td>\n",
              "      <td>4.165250e+03</td>\n",
              "      <td>2695.565000</td>\n",
              "      <td>2001.250000</td>\n",
              "      <td>0.000000</td>\n",
              "      <td>131.472500</td>\n",
              "      <td>0.146348</td>\n",
              "      <td>0.098837</td>\n",
              "      <td>44.311378</td>\n",
              "      <td>218.882500</td>\n",
              "      <td>29.640000</td>\n",
              "      <td>29.760000</td>\n",
              "      <td>1.000000</td>\n",
              "      <td>277.192500</td>\n",
              "      <td>6.000000</td>\n",
              "      <td>19.800000</td>\n",
              "      <td>0.000000</td>\n",
              "    </tr>\n",
              "    <tr>\n",
              "      <th>max</th>\n",
              "      <td>1.609711e+07</td>\n",
              "      <td>4.188440e+06</td>\n",
              "      <td>4.538720e+06</td>\n",
              "      <td>103801.930000</td>\n",
              "      <td>175375.000000</td>\n",
              "      <td>50.000000</td>\n",
              "      <td>2411.690000</td>\n",
              "      <td>0.273963</td>\n",
              "      <td>0.195975</td>\n",
              "      <td>59.444710</td>\n",
              "      <td>15042.790000</td>\n",
              "      <td>525.540000</td>\n",
              "      <td>615.660000</td>\n",
              "      <td>32.000000</td>\n",
              "      <td>24570.650000</td>\n",
              "      <td>16.000000</td>\n",
              "      <td>500.000000</td>\n",
              "      <td>1.000000</td>\n",
              "    </tr>\n",
              "  </tbody>\n",
              "</table>\n",
              "</div>\n",
              "      <button class=\"colab-df-convert\" onclick=\"convertToInteractive('df-f0841036-9fe8-4a3a-a883-80bf47336254')\"\n",
              "              title=\"Convert this dataframe to an interactive table.\"\n",
              "              style=\"display:none;\">\n",
              "        \n",
              "  <svg xmlns=\"http://www.w3.org/2000/svg\" height=\"24px\"viewBox=\"0 0 24 24\"\n",
              "       width=\"24px\">\n",
              "    <path d=\"M0 0h24v24H0V0z\" fill=\"none\"/>\n",
              "    <path d=\"M18.56 5.44l.94 2.06.94-2.06 2.06-.94-2.06-.94-.94-2.06-.94 2.06-2.06.94zm-11 1L8.5 8.5l.94-2.06 2.06-.94-2.06-.94L8.5 2.5l-.94 2.06-2.06.94zm10 10l.94 2.06.94-2.06 2.06-.94-2.06-.94-.94-2.06-.94 2.06-2.06.94z\"/><path d=\"M17.41 7.96l-1.37-1.37c-.4-.4-.92-.59-1.43-.59-.52 0-1.04.2-1.43.59L10.3 9.45l-7.72 7.72c-.78.78-.78 2.05 0 2.83L4 21.41c.39.39.9.59 1.41.59.51 0 1.02-.2 1.41-.59l7.78-7.78 2.81-2.81c.8-.78.8-2.07 0-2.86zM5.41 20L4 18.59l7.72-7.72 1.47 1.35L5.41 20z\"/>\n",
              "  </svg>\n",
              "      </button>\n",
              "      \n",
              "  <style>\n",
              "    .colab-df-container {\n",
              "      display:flex;\n",
              "      flex-wrap:wrap;\n",
              "      gap: 12px;\n",
              "    }\n",
              "\n",
              "    .colab-df-convert {\n",
              "      background-color: #E8F0FE;\n",
              "      border: none;\n",
              "      border-radius: 50%;\n",
              "      cursor: pointer;\n",
              "      display: none;\n",
              "      fill: #1967D2;\n",
              "      height: 32px;\n",
              "      padding: 0 0 0 0;\n",
              "      width: 32px;\n",
              "    }\n",
              "\n",
              "    .colab-df-convert:hover {\n",
              "      background-color: #E2EBFA;\n",
              "      box-shadow: 0px 1px 2px rgba(60, 64, 67, 0.3), 0px 1px 3px 1px rgba(60, 64, 67, 0.15);\n",
              "      fill: #174EA6;\n",
              "    }\n",
              "\n",
              "    [theme=dark] .colab-df-convert {\n",
              "      background-color: #3B4455;\n",
              "      fill: #D2E3FC;\n",
              "    }\n",
              "\n",
              "    [theme=dark] .colab-df-convert:hover {\n",
              "      background-color: #434B5C;\n",
              "      box-shadow: 0px 1px 3px 1px rgba(0, 0, 0, 0.15);\n",
              "      filter: drop-shadow(0px 1px 2px rgba(0, 0, 0, 0.3));\n",
              "      fill: #FFFFFF;\n",
              "    }\n",
              "  </style>\n",
              "\n",
              "      <script>\n",
              "        const buttonEl =\n",
              "          document.querySelector('#df-f0841036-9fe8-4a3a-a883-80bf47336254 button.colab-df-convert');\n",
              "        buttonEl.style.display =\n",
              "          google.colab.kernel.accessAllowed ? 'block' : 'none';\n",
              "\n",
              "        async function convertToInteractive(key) {\n",
              "          const element = document.querySelector('#df-f0841036-9fe8-4a3a-a883-80bf47336254');\n",
              "          const dataTable =\n",
              "            await google.colab.kernel.invokeFunction('convertToInteractive',\n",
              "                                                     [key], {});\n",
              "          if (!dataTable) return;\n",
              "\n",
              "          const docLinkHtml = 'Like what you see? Visit the ' +\n",
              "            '<a target=\"_blank\" href=https://colab.research.google.com/notebooks/data_table.ipynb>data table notebook</a>'\n",
              "            + ' to learn more about interactive tables.';\n",
              "          element.innerHTML = '';\n",
              "          dataTable['output_type'] = 'display_data';\n",
              "          await google.colab.output.renderOutput(dataTable, element);\n",
              "          const docLink = document.createElement('div');\n",
              "          docLink.innerHTML = docLinkHtml;\n",
              "          element.appendChild(docLink);\n",
              "        }\n",
              "      </script>\n",
              "    </div>\n",
              "  </div>\n",
              "  "
            ]
          },
          "metadata": {},
          "execution_count": 137
        }
      ]
    },
    {
      "cell_type": "code",
      "source": [
        "date_cols = ['date_activ', 'date_end', 'date_modif_prod', 'date_renewal']\n",
        "for col in date_cols:\n",
        "  df_train[col] = pd.to_datetime(df_train[col])\n",
        "\n",
        "def date_to_month(x):\n",
        "  current = datetime(2016,3,1)\n",
        "  diff = current - x\n",
        "  return abs(diff.days/12)\n",
        "\n",
        "date_cols = ['date_activ', 'date_end', 'date_modif_prod', 'date_renewal']\n",
        "for col in date_cols:\n",
        "  df_train[col] = df_train[col].apply(date_to_month)\n"
      ],
      "metadata": {
        "id": "M5oB-IrEgj8z"
      },
      "execution_count": null,
      "outputs": []
    },
    {
      "cell_type": "code",
      "source": [
        "df_train['has_gas'] = df_train['has_gas'].apply(lambda x:1 if x=='t' else 0)"
      ],
      "metadata": {
        "id": "lSVZ74FcfJnV"
      },
      "execution_count": null,
      "outputs": []
    },
    {
      "cell_type": "code",
      "source": [
        "# to encode ['origin_up','channel_sales'] - both of which are categorical variables with 8 and 5 unique values\n",
        "encoder = OneHotEncoder()\n",
        "encoded_df = pd.DataFrame(encoder.fit_transform(df_train[['origin_up']]).toarray())\n",
        "encoded_df.columns = ['origin1','origin2','origin3','origin4','origin5']\n",
        "new_df = df_train.join(encoded_df)\n",
        "new_df.drop('origin_up', axis=1,inplace=True)\n",
        "\n",
        "encoded_df = pd.DataFrame(encoder.fit_transform(df_train[['channel_sales']]).toarray())\n",
        "encoded_df.columns = ['channel_sales1','channel_sales2','channel_sales3','channel_sales4','channel_sales5','channel_sales6','channel_sales7','channel_sales8']\n",
        "df_train = new_df.join(encoded_df)\n",
        "df_train.drop('channel_sales',axis=1,inplace=True)\n"
      ],
      "metadata": {
        "id": "PLVNnJ-tjg_Z"
      },
      "execution_count": null,
      "outputs": []
    },
    {
      "cell_type": "code",
      "source": [
        "include = ['price_p1_fix','price_p2_fix','price_p3_fix','price_p1_var','price_p2_var']\n",
        "#df_train_hist.loc[:,include] = df_train_hist.loc[:,include].apply(abs)\n",
        "df_train_hist[include] = df_train_hist[include].apply(abs)\n",
        "df_train_hist.describe()"
      ],
      "metadata": {
        "colab": {
          "base_uri": "https://localhost:8080/",
          "height": 300
        },
        "id": "Uy-lXEAygnvG",
        "outputId": "0ee6dc13-6832-4ae2-e53a-fbdac5ac0b09"
      },
      "execution_count": null,
      "outputs": [
        {
          "output_type": "execute_result",
          "data": {
            "text/plain": [
              "        price_p1_var   price_p2_var   price_p3_var   price_p1_fix  \\\n",
              "count  191643.000000  191643.000000  191643.000000  191643.000000   \n",
              "mean        0.140991       0.054412       0.030712      43.325563   \n",
              "std         0.025117       0.050033       0.036335       5.437816   \n",
              "min         0.000000       0.000000       0.000000       0.000000   \n",
              "25%         0.125976       0.000000       0.000000      40.728885   \n",
              "50%         0.146033       0.085483       0.000000      44.266930   \n",
              "75%         0.151635       0.101780       0.072558      44.444710   \n",
              "max         0.280700       0.229788       0.114102      59.444710   \n",
              "\n",
              "        price_p2_fix   price_p3_fix  \n",
              "count  191643.000000  191643.000000  \n",
              "mean       10.698210       6.455443  \n",
              "std        12.856039       7.782273  \n",
              "min         0.000000       0.000000  \n",
              "25%         0.000000       0.000000  \n",
              "50%         0.000000       0.000000  \n",
              "75%        24.339581      16.226389  \n",
              "max        36.490692      17.458221  "
            ],
            "text/html": [
              "\n",
              "  <div id=\"df-5bd880f9-3edf-4260-84d5-f9cb53f10d0a\">\n",
              "    <div class=\"colab-df-container\">\n",
              "      <div>\n",
              "<style scoped>\n",
              "    .dataframe tbody tr th:only-of-type {\n",
              "        vertical-align: middle;\n",
              "    }\n",
              "\n",
              "    .dataframe tbody tr th {\n",
              "        vertical-align: top;\n",
              "    }\n",
              "\n",
              "    .dataframe thead th {\n",
              "        text-align: right;\n",
              "    }\n",
              "</style>\n",
              "<table border=\"1\" class=\"dataframe\">\n",
              "  <thead>\n",
              "    <tr style=\"text-align: right;\">\n",
              "      <th></th>\n",
              "      <th>price_p1_var</th>\n",
              "      <th>price_p2_var</th>\n",
              "      <th>price_p3_var</th>\n",
              "      <th>price_p1_fix</th>\n",
              "      <th>price_p2_fix</th>\n",
              "      <th>price_p3_fix</th>\n",
              "    </tr>\n",
              "  </thead>\n",
              "  <tbody>\n",
              "    <tr>\n",
              "      <th>count</th>\n",
              "      <td>191643.000000</td>\n",
              "      <td>191643.000000</td>\n",
              "      <td>191643.000000</td>\n",
              "      <td>191643.000000</td>\n",
              "      <td>191643.000000</td>\n",
              "      <td>191643.000000</td>\n",
              "    </tr>\n",
              "    <tr>\n",
              "      <th>mean</th>\n",
              "      <td>0.140991</td>\n",
              "      <td>0.054412</td>\n",
              "      <td>0.030712</td>\n",
              "      <td>43.325563</td>\n",
              "      <td>10.698210</td>\n",
              "      <td>6.455443</td>\n",
              "    </tr>\n",
              "    <tr>\n",
              "      <th>std</th>\n",
              "      <td>0.025117</td>\n",
              "      <td>0.050033</td>\n",
              "      <td>0.036335</td>\n",
              "      <td>5.437816</td>\n",
              "      <td>12.856039</td>\n",
              "      <td>7.782273</td>\n",
              "    </tr>\n",
              "    <tr>\n",
              "      <th>min</th>\n",
              "      <td>0.000000</td>\n",
              "      <td>0.000000</td>\n",
              "      <td>0.000000</td>\n",
              "      <td>0.000000</td>\n",
              "      <td>0.000000</td>\n",
              "      <td>0.000000</td>\n",
              "    </tr>\n",
              "    <tr>\n",
              "      <th>25%</th>\n",
              "      <td>0.125976</td>\n",
              "      <td>0.000000</td>\n",
              "      <td>0.000000</td>\n",
              "      <td>40.728885</td>\n",
              "      <td>0.000000</td>\n",
              "      <td>0.000000</td>\n",
              "    </tr>\n",
              "    <tr>\n",
              "      <th>50%</th>\n",
              "      <td>0.146033</td>\n",
              "      <td>0.085483</td>\n",
              "      <td>0.000000</td>\n",
              "      <td>44.266930</td>\n",
              "      <td>0.000000</td>\n",
              "      <td>0.000000</td>\n",
              "    </tr>\n",
              "    <tr>\n",
              "      <th>75%</th>\n",
              "      <td>0.151635</td>\n",
              "      <td>0.101780</td>\n",
              "      <td>0.072558</td>\n",
              "      <td>44.444710</td>\n",
              "      <td>24.339581</td>\n",
              "      <td>16.226389</td>\n",
              "    </tr>\n",
              "    <tr>\n",
              "      <th>max</th>\n",
              "      <td>0.280700</td>\n",
              "      <td>0.229788</td>\n",
              "      <td>0.114102</td>\n",
              "      <td>59.444710</td>\n",
              "      <td>36.490692</td>\n",
              "      <td>17.458221</td>\n",
              "    </tr>\n",
              "  </tbody>\n",
              "</table>\n",
              "</div>\n",
              "      <button class=\"colab-df-convert\" onclick=\"convertToInteractive('df-5bd880f9-3edf-4260-84d5-f9cb53f10d0a')\"\n",
              "              title=\"Convert this dataframe to an interactive table.\"\n",
              "              style=\"display:none;\">\n",
              "        \n",
              "  <svg xmlns=\"http://www.w3.org/2000/svg\" height=\"24px\"viewBox=\"0 0 24 24\"\n",
              "       width=\"24px\">\n",
              "    <path d=\"M0 0h24v24H0V0z\" fill=\"none\"/>\n",
              "    <path d=\"M18.56 5.44l.94 2.06.94-2.06 2.06-.94-2.06-.94-.94-2.06-.94 2.06-2.06.94zm-11 1L8.5 8.5l.94-2.06 2.06-.94-2.06-.94L8.5 2.5l-.94 2.06-2.06.94zm10 10l.94 2.06.94-2.06 2.06-.94-2.06-.94-.94-2.06-.94 2.06-2.06.94z\"/><path d=\"M17.41 7.96l-1.37-1.37c-.4-.4-.92-.59-1.43-.59-.52 0-1.04.2-1.43.59L10.3 9.45l-7.72 7.72c-.78.78-.78 2.05 0 2.83L4 21.41c.39.39.9.59 1.41.59.51 0 1.02-.2 1.41-.59l7.78-7.78 2.81-2.81c.8-.78.8-2.07 0-2.86zM5.41 20L4 18.59l7.72-7.72 1.47 1.35L5.41 20z\"/>\n",
              "  </svg>\n",
              "      </button>\n",
              "      \n",
              "  <style>\n",
              "    .colab-df-container {\n",
              "      display:flex;\n",
              "      flex-wrap:wrap;\n",
              "      gap: 12px;\n",
              "    }\n",
              "\n",
              "    .colab-df-convert {\n",
              "      background-color: #E8F0FE;\n",
              "      border: none;\n",
              "      border-radius: 50%;\n",
              "      cursor: pointer;\n",
              "      display: none;\n",
              "      fill: #1967D2;\n",
              "      height: 32px;\n",
              "      padding: 0 0 0 0;\n",
              "      width: 32px;\n",
              "    }\n",
              "\n",
              "    .colab-df-convert:hover {\n",
              "      background-color: #E2EBFA;\n",
              "      box-shadow: 0px 1px 2px rgba(60, 64, 67, 0.3), 0px 1px 3px 1px rgba(60, 64, 67, 0.15);\n",
              "      fill: #174EA6;\n",
              "    }\n",
              "\n",
              "    [theme=dark] .colab-df-convert {\n",
              "      background-color: #3B4455;\n",
              "      fill: #D2E3FC;\n",
              "    }\n",
              "\n",
              "    [theme=dark] .colab-df-convert:hover {\n",
              "      background-color: #434B5C;\n",
              "      box-shadow: 0px 1px 3px 1px rgba(0, 0, 0, 0.15);\n",
              "      filter: drop-shadow(0px 1px 2px rgba(0, 0, 0, 0.3));\n",
              "      fill: #FFFFFF;\n",
              "    }\n",
              "  </style>\n",
              "\n",
              "      <script>\n",
              "        const buttonEl =\n",
              "          document.querySelector('#df-5bd880f9-3edf-4260-84d5-f9cb53f10d0a button.colab-df-convert');\n",
              "        buttonEl.style.display =\n",
              "          google.colab.kernel.accessAllowed ? 'block' : 'none';\n",
              "\n",
              "        async function convertToInteractive(key) {\n",
              "          const element = document.querySelector('#df-5bd880f9-3edf-4260-84d5-f9cb53f10d0a');\n",
              "          const dataTable =\n",
              "            await google.colab.kernel.invokeFunction('convertToInteractive',\n",
              "                                                     [key], {});\n",
              "          if (!dataTable) return;\n",
              "\n",
              "          const docLinkHtml = 'Like what you see? Visit the ' +\n",
              "            '<a target=\"_blank\" href=https://colab.research.google.com/notebooks/data_table.ipynb>data table notebook</a>'\n",
              "            + ' to learn more about interactive tables.';\n",
              "          element.innerHTML = '';\n",
              "          dataTable['output_type'] = 'display_data';\n",
              "          await google.colab.output.renderOutput(dataTable, element);\n",
              "          const docLink = document.createElement('div');\n",
              "          docLink.innerHTML = docLinkHtml;\n",
              "          element.appendChild(docLink);\n",
              "        }\n",
              "      </script>\n",
              "    </div>\n",
              "  </div>\n",
              "  "
            ]
          },
          "metadata": {},
          "execution_count": 141
        }
      ]
    },
    {
      "cell_type": "code",
      "source": [
        "df_train_hist = df_train_hist.reset_index().drop_duplicates(subset='id', keep='first')\n",
        "df_train_hist.shape"
      ],
      "metadata": {
        "colab": {
          "base_uri": "https://localhost:8080/"
        },
        "id": "UesM27KKfaIN",
        "outputId": "408a19aa-8d1e-43ea-cfa5-2c77644cdc9f"
      },
      "execution_count": null,
      "outputs": [
        {
          "output_type": "execute_result",
          "data": {
            "text/plain": [
              "(16096, 9)"
            ]
          },
          "metadata": {},
          "execution_count": 142
        }
      ]
    },
    {
      "cell_type": "code",
      "source": [
        "df_train = pd.merge(df_train, df_train_hist, on=[\"id\"])"
      ],
      "metadata": {
        "id": "NN_bzlKMfjUd"
      },
      "execution_count": null,
      "outputs": []
    },
    {
      "cell_type": "code",
      "source": [
        "df_train.drop(['price_date','id','index','price_p3_var','price_p2_fix','price_p3_fix','forecast_cons_year','imp_cons','price_p1_var','price_p2_var','price_p1_fix','origin4','origin5','origin1','num_years_antig','channel_sales1','channel_sales3','channel_sales7','channel_sales4','channel_sales5','channel_sales6','forecast_discount_energy'],axis=1,inplace=True)\n",
        "#include = ['price_p1_var','price_p2_var','price_p1_fix']\n",
        "#df_train[include] = df_train[include].fillna(0)\n",
        "df_train.info()"
      ],
      "metadata": {
        "id": "42Hz8Jq0fo_F"
      },
      "execution_count": null,
      "outputs": []
    },
    {
      "cell_type": "code",
      "source": [
        "df_train.shape"
      ],
      "metadata": {
        "colab": {
          "base_uri": "https://localhost:8080/"
        },
        "id": "ak0-dVYBwtV1",
        "outputId": "0e6e5651-b3f4-4e34-e81d-8dbb78652edc"
      },
      "execution_count": null,
      "outputs": [
        {
          "output_type": "execute_result",
          "data": {
            "text/plain": [
              "(16096, 23)"
            ]
          },
          "metadata": {},
          "execution_count": 145
        }
      ]
    },
    {
      "cell_type": "code",
      "source": [
        "df_train['date_end'].describe()"
      ],
      "metadata": {
        "colab": {
          "base_uri": "https://localhost:8080/"
        },
        "id": "aw_mnlSqO2W7",
        "outputId": "91f5bc85-333f-4d7f-80fa-278ab7358cd6"
      },
      "execution_count": null,
      "outputs": [
        {
          "output_type": "execute_result",
          "data": {
            "text/plain": [
              "count    16096.000000\n",
              "mean        12.695737\n",
              "std          8.776164\n",
              "min          0.000000\n",
              "25%          4.833333\n",
              "50%         12.583333\n",
              "75%         20.333333\n",
              "max        289.583333\n",
              "Name: date_end, dtype: float64"
            ]
          },
          "metadata": {},
          "execution_count": 146
        }
      ]
    },
    {
      "cell_type": "code",
      "source": [
        "end_25 = 4.83\n",
        "end_50 = 12.58\n",
        "end_75 = 20.33\n",
        "end_max = 290"
      ],
      "metadata": {
        "id": "SPLBaORBPAu-"
      },
      "execution_count": null,
      "outputs": []
    },
    {
      "cell_type": "code",
      "source": [
        "cons_25 = df_train['date_end'] < end_25\n",
        "cons_50 = df_train['date_end'] < end_50 #and (df_train['churn']>0)\n",
        "cons_75 = df_train['date_end'] < end_75 #and (df_train['churn']>0)\n",
        "cons_100 = df_train['date_end'] > end_75\n",
        "churn_g = df_train['churn']>0"
      ],
      "metadata": {
        "id": "sNKlrcTNPRzZ"
      },
      "execution_count": null,
      "outputs": []
    },
    {
      "cell_type": "code",
      "source": [
        "bin_25 = np.sum(cons_25 & churn_g)\n",
        "bin_50 = np.sum(cons_50 & churn_g) - bin_25\n",
        "bin_75 = np.sum(cons_75 & churn_g) - bin_50\n",
        "bin_100 = np.sum(cons_100 & churn_g) "
      ],
      "metadata": {
        "id": "bs4bY1tXPil3"
      },
      "execution_count": null,
      "outputs": []
    },
    {
      "cell_type": "code",
      "source": [
        "data_dict = {'<25':bin_25, '25-50':bin_50, '50-75':bin_75, '>75':bin_100 }\n",
        "courses = list(data_dict.keys())\n",
        "values = list(data_dict.values())\n",
        "fig = plt.figure(figsize = (15, 5))\n",
        "\n",
        "plt.bar(courses, values, color ='blue',\n",
        "        width = 0.5)\n",
        "plt.xlabel(\"End of contract wrt to quartiles\")\n",
        "plt.ylabel(\"Customers Churned \")\n",
        "plt.title(\"End of contract vs churning\")\n",
        "plt.show()"
      ],
      "metadata": {
        "colab": {
          "base_uri": "https://localhost:8080/",
          "height": 354
        },
        "id": "HBNaOs-dPoiA",
        "outputId": "742fdfea-4960-481d-b334-da87c4bfe22a"
      },
      "execution_count": null,
      "outputs": [
        {
          "output_type": "display_data",
          "data": {
            "text/plain": [
              "<Figure size 1080x360 with 1 Axes>"
            ],
            "image/png": "[encoded data removed]"
          },
          "metadata": {}
        }
      ]
    },
    {
      "cell_type": "code",
      "source": [
        "#plt.hist(df_train['forecast_price_energy_p1'])"
      ],
      "metadata": {
        "id": "QHOn0oU8KSQ1"
      },
      "execution_count": null,
      "outputs": []
    },
    {
      "cell_type": "code",
      "source": [
        "#plt.scatter(df_train['forecast_price_energy_p1'],df_train['price_p1_fix'])"
      ],
      "metadata": {
        "id": "_sUXUra4LSMM"
      },
      "execution_count": null,
      "outputs": []
    },
    {
      "cell_type": "code",
      "source": [
        "def outliers(df, feature):\n",
        "    Q1= df[feature].quantile(0.25)\n",
        "    Q3 = df[feature].quantile(0.75)\n",
        "    IQR = Q3 - Q1\n",
        "    upper_limit = Q3 + 1.5 * IQR\n",
        "    lower_limit = Q1 - 1.5 * IQR\n",
        "    return upper_limit, lower_limit\n"
      ],
      "metadata": {
        "id": "NNVicJ-m1J86"
      },
      "execution_count": null,
      "outputs": []
    },
    {
      "cell_type": "code",
      "source": [
        "include = [cols for cols in df_train.columns if np.issubdtype(df_train[cols].dtype,np.number) and cols!='churn']\n",
        "for col in include:\n",
        "#  print(col)\n",
        "  upper, lower = outliers(df_train, col)\n",
        "  new_df = df_train[(df_train[col] > lower) & (df_train[col] < upper)]\n",
        "\n"
      ],
      "metadata": {
        "id": "mfNWvGFGmcMz"
      },
      "execution_count": null,
      "outputs": []
    },
    {
      "cell_type": "code",
      "source": [
        "#df_train.columns"
      ],
      "metadata": {
        "id": "lsRnbqp61kyi"
      },
      "execution_count": null,
      "outputs": []
    },
    {
      "cell_type": "code",
      "source": [
        "#new_df.columns"
      ],
      "metadata": {
        "id": "3lajBVZK1l9w"
      },
      "execution_count": null,
      "outputs": []
    },
    {
      "cell_type": "code",
      "source": [
        "new_df.shape"
      ],
      "metadata": {
        "colab": {
          "base_uri": "https://localhost:8080/"
        },
        "id": "Eo9IIXwl1qVH",
        "outputId": "58d76223-94c8-447f-87e7-2536e533961c"
      },
      "execution_count": null,
      "outputs": [
        {
          "output_type": "execute_result",
          "data": {
            "text/plain": [
              "(0, 23)"
            ]
          },
          "metadata": {},
          "execution_count": 123
        }
      ]
    },
    {
      "cell_type": "code",
      "source": [
        "plt.scatter(df_train['date_renewal'],df_train['churn'])"
      ],
      "metadata": {
        "colab": {
          "base_uri": "https://localhost:8080/",
          "height": 284
        },
        "id": "vBG0OOvbIQxL",
        "outputId": "c99ec360-b8f1-461f-85c1-606b03f8437d"
      },
      "execution_count": null,
      "outputs": [
        {
          "output_type": "execute_result",
          "data": {
            "text/plain": [
              "<matplotlib.collections.PathCollection at 0x7f90e9917c90>"
            ]
          },
          "metadata": {},
          "execution_count": 124
        },
        {
          "output_type": "display_data",
          "data": {
            "text/plain": [
              "<Figure size 432x288 with 1 Axes>"
            ],
            "image/png": "[encoded data removed]"
          },
          "metadata": {}
        }
      ]
    },
    {
      "cell_type": "code",
      "source": [
        "plt.scatter(df_train['date_end'],df_train['churn'])"
      ],
      "metadata": {
        "colab": {
          "base_uri": "https://localhost:8080/",
          "height": 284
        },
        "id": "hmFYlvnTIXBI",
        "outputId": "3721d6b4-0937-4d2b-ecf4-751c0351260b"
      },
      "execution_count": null,
      "outputs": [
        {
          "output_type": "execute_result",
          "data": {
            "text/plain": [
              "<matplotlib.collections.PathCollection at 0x7f90e9a7a950>"
            ]
          },
          "metadata": {},
          "execution_count": 125
        },
        {
          "output_type": "display_data",
          "data": {
            "text/plain": [
              "<Figure size 432x288 with 1 Axes>"
            ],
            "image/png": "[encoded data removed]"
          },
          "metadata": {}
        }
      ]
    },
    {
      "cell_type": "code",
      "source": [
        "y = df_train['churn']\n",
        "X = df_train.drop('churn',axis=1)"
      ],
      "metadata": {
        "id": "Eg3aR09-84Tm"
      },
      "execution_count": null,
      "outputs": []
    },
    {
      "cell_type": "code",
      "source": [
        "#y = new_df['churn']\n",
        "#X = new_df.drop('churn',axis=1)"
      ],
      "metadata": {
        "id": "9z5eT8SOz8Bu"
      },
      "execution_count": null,
      "outputs": []
    },
    {
      "cell_type": "markdown",
      "source": [
        "## PCA"
      ],
      "metadata": {
        "id": "nUA2T2OUL2xa"
      }
    },
    {
      "cell_type": "code",
      "source": [
        "pca = PCA(n_components=2)\n",
        "X_new = pca.fit_transform(X)"
      ],
      "metadata": {
        "id": "G3r1GsbBormx"
      },
      "execution_count": null,
      "outputs": []
    },
    {
      "cell_type": "code",
      "source": [
        "explained_variance = pca.explained_variance_ratio_"
      ],
      "metadata": {
        "id": "JStdco5qp-l_"
      },
      "execution_count": null,
      "outputs": []
    },
    {
      "cell_type": "code",
      "source": [
        "np.sum(explained_variance)"
      ],
      "metadata": {
        "id": "ggDoiceGqCEq",
        "colab": {
          "base_uri": "https://localhost:8080/"
        },
        "outputId": "7418f431-a438-4f0c-b95f-228c72735028"
      },
      "execution_count": null,
      "outputs": [
        {
          "output_type": "execute_result",
          "data": {
            "text/plain": [
              "0.9980808585428562"
            ]
          },
          "metadata": {},
          "execution_count": 23
        }
      ]
    },
    {
      "cell_type": "code",
      "source": [
        "principals_composition = abs(pca.components_)"
      ],
      "metadata": {
        "id": "K-WAVclCrjDf"
      },
      "execution_count": null,
      "outputs": []
    },
    {
      "cell_type": "code",
      "source": [
        "principals_composition.shape"
      ],
      "metadata": {
        "id": "n8QMEJp83VFe",
        "colab": {
          "base_uri": "https://localhost:8080/"
        },
        "outputId": "73e1eedf-7db3-457a-c7de-fefbc0337916"
      },
      "execution_count": null,
      "outputs": [
        {
          "output_type": "execute_result",
          "data": {
            "text/plain": [
              "(2, 20)"
            ]
          },
          "metadata": {},
          "execution_count": 25
        }
      ]
    },
    {
      "cell_type": "code",
      "source": [
        "explained_variance"
      ],
      "metadata": {
        "id": "AWg8hesHyoE_",
        "colab": {
          "base_uri": "https://localhost:8080/"
        },
        "outputId": "20899948-14d9-48ca-b97a-a14f0130f507"
      },
      "execution_count": null,
      "outputs": [
        {
          "output_type": "execute_result",
          "data": {
            "text/plain": [
              "array([0.94978676, 0.0482941 ])"
            ]
          },
          "metadata": {},
          "execution_count": 26
        }
      ]
    },
    {
      "cell_type": "code",
      "source": [
        "normalized_pc2 = principals_composition[1]/np.sum(principals_composition[1])\n",
        "v2 = np.sort(normalized_pc2)[::-1]\n",
        "summation = np.sum(v2[:10])\n",
        "print(summation)"
      ],
      "metadata": {
        "colab": {
          "base_uri": "https://localhost:8080/"
        },
        "id": "Lvde8BVpiG5i",
        "outputId": "0081aa01-3f6a-4e9b-afa6-b19021cd24ed"
      },
      "execution_count": null,
      "outputs": [
        {
          "output_type": "stream",
          "name": "stdout",
          "text": [
            "0.999996688768649\n"
          ]
        }
      ]
    },
    {
      "cell_type": "code",
      "source": [
        "normalized_pc1 = principals_composition[0]/np.sum(principals_composition[0])"
      ],
      "metadata": {
        "id": "_OHirRUR61Q-"
      },
      "execution_count": null,
      "outputs": []
    },
    {
      "cell_type": "code",
      "source": [
        "v1 = np.sort(normalized_pc1)[::-1]"
      ],
      "metadata": {
        "id": "D91vk_oq_CaL"
      },
      "execution_count": null,
      "outputs": []
    },
    {
      "cell_type": "code",
      "source": [
        "summation = np.sum(v1[:10])\n",
        "summation"
      ],
      "metadata": {
        "colab": {
          "base_uri": "https://localhost:8080/"
        },
        "id": "ty5TvVgU78Tt",
        "outputId": "c2645c23-cd78-438c-bd6b-da034ebcf9c5"
      },
      "execution_count": null,
      "outputs": [
        {
          "output_type": "execute_result",
          "data": {
            "text/plain": [
              "0.9999984476496643"
            ]
          },
          "metadata": {},
          "execution_count": 30
        }
      ]
    },
    {
      "cell_type": "code",
      "source": [
        "featureimp_dict2 = {'Normalized_PC':normalized_pc2, 'feature_names':X.columns}\n",
        "df_featureimp2 = pd.DataFrame(featureimp_dict2)\n",
        "features_rank2 = df_featureimp2.sort_values(by='Normalized_PC',ascending=False)"
      ],
      "metadata": {
        "id": "bhsJ81uJibp5"
      },
      "execution_count": null,
      "outputs": []
    },
    {
      "cell_type": "code",
      "source": [
        "featureimp_dict1 = {'Normalized_PC':normalized_pc1, 'feature_names':X.columns}\n",
        "df_featureimp1 = pd.DataFrame(featureimp_dict1)\n",
        "features_rank1 = df_featureimp1.sort_values(by='Normalized_PC',ascending=False)"
      ],
      "metadata": {
        "id": "ytn5MFLO7xd1"
      },
      "execution_count": null,
      "outputs": []
    },
    {
      "cell_type": "code",
      "source": [
        "print(features_rank1,'\\n\\n\\n',features_rank2)"
      ],
      "metadata": {
        "colab": {
          "base_uri": "https://localhost:8080/"
        },
        "id": "_r00LxyRik5X",
        "outputId": "12fa00d2-b0f9-4a6c-967d-fcb4c89dfd5d"
      },
      "execution_count": null,
      "outputs": [
        {
          "output_type": "stream",
          "name": "stdout",
          "text": [
            "    Normalized_PC             feature_names\n",
            "0    8.041629e-01                  cons_12m\n",
            "1    1.044665e-01              cons_gas_12m\n",
            "2    9.050833e-02           cons_last_month\n",
            "6    7.870723e-04         forecast_cons_12m\n",
            "14   5.306303e-05                net_margin\n",
            "7    8.049438e-06   forecast_meter_rent_12m\n",
            "4    6.595111e-06           date_modif_prod\n",
            "15   2.645669e-06                   pow_max\n",
            "12   1.727213e-06        margin_net_pow_ele\n",
            "11   1.543439e-06      margin_gross_pow_ele\n",
            "13   5.417992e-07               nb_prod_act\n",
            "5    4.422341e-07              date_renewal\n",
            "3    3.513012e-07                date_activ\n",
            "10   1.093484e-07                   has_gas\n",
            "16   4.259137e-08                   origin2\n",
            "19   2.726115e-08            channel_sales8\n",
            "18   1.560614e-08            channel_sales2\n",
            "17   1.277996e-08                   origin3\n",
            "9    8.388222e-09  forecast_price_energy_p2\n",
            "8    1.040647e-09  forecast_price_energy_p1 \n",
            "\n",
            "\n",
            "     Normalized_PC             feature_names\n",
            "1    8.790708e-01              cons_gas_12m\n",
            "0    1.134220e-01                  cons_12m\n",
            "2    6.885306e-03           cons_last_month\n",
            "6    6.021478e-04         forecast_cons_12m\n",
            "14   6.702204e-06                net_margin\n",
            "3    2.900486e-06                date_activ\n",
            "4    2.172371e-06           date_modif_prod\n",
            "11   1.635471e-06      margin_gross_pow_ele\n",
            "5    1.545295e-06              date_renewal\n",
            "12   1.481014e-06        margin_net_pow_ele\n",
            "7    1.308626e-06   forecast_meter_rent_12m\n",
            "13   1.117352e-06               nb_prod_act\n",
            "10   6.480176e-07                   has_gas\n",
            "15   1.925197e-07                   pow_max\n",
            "17   2.726581e-08                   origin3\n",
            "16   1.161732e-08                   origin2\n",
            "19   2.483289e-09            channel_sales8\n",
            "18   1.584463e-09            channel_sales2\n",
            "9    9.251885e-10  forecast_price_energy_p2\n",
            "8    8.407433e-10  forecast_price_energy_p1\n"
          ]
        }
      ]
    },
    {
      "cell_type": "markdown",
      "source": [
        "## Model"
      ],
      "metadata": {
        "id": "aRLOkUkbL7Zd"
      }
    },
    {
      "cell_type": "code",
      "source": [
        "#exclude = ['cons_12m','cons_gas_12m','cons_last_month','forecast_cons_year','forecast_cons_12m','imp_cons','net_margin','date_modif_prod','forecast_meter_rent_12m','pow_max','margin_net_pow_ele','margin_gross_pow_ele','price_p1_fix','forecast_discount_energy','date_activ','price_p2_var','forecast_price_energy_p1']"
      ],
      "metadata": {
        "id": "RNNkBQTdGwIv"
      },
      "execution_count": null,
      "outputs": []
    },
    {
      "cell_type": "code",
      "source": [
        "model_log = LogisticRegression(solver='liblinear', random_state=0)\n",
        "#sm = SMOTE(sampling_strategy=0.2,random_state = 33)\n",
        "model = xgb.XGBClassifier(learning_rate=0.1,max_depth=10,n_estimators=200,scale_pos_weight=40,n_jobs=-1,use_label_encoder=False)\n",
        "X_train, X_test, y_train, y_test = train_test_split(X, y, test_size = 0.1, random_state = 2, shuffle = True, stratify = y)\n",
        "#X_train_new, y_train_new = sm.fit_resample(X_train, y_train.ravel())\n",
        "model.fit(X_train,y_train)\n",
        "#model_log.fit(X_train_new,y_train_new)\n",
        "#model_log.fit(X_train,y_train)\n",
        "#model.fit(X_train_new,y_train_new)\n",
        "#train_log_preds = model.predict(X_train)\n",
        "#train_log_preds = model.predict(X_train_new)\n",
        "#test_log_preds = model.predict(X_test)\n",
        "#train_log_preds = model_log.predict(X_train)\n",
        "#test_log_preds = model_log.predict(X_test)\n",
        "\n",
        "train_log_preds = model.predict(X_train)\n",
        "test_log_preds = model.predict(X_test)\n",
        "y_train_new = y_train\n",
        "\n",
        "\n",
        "train_metrics = {'train_acc': metrics.accuracy_score(y_train_new, train_log_preds),\n",
        "'train_conf': confusion_matrix(y_train_new, train_log_preds),\n",
        "'train_precision': metrics.precision_score(y_train_new, train_log_preds),\n",
        "'train_recall': metrics.recall_score(y_train_new, train_log_preds),\n",
        "'train_roc': roc_auc_score(y_train_new, train_log_preds)}\n",
        "\n",
        "test_metrics = {'test_acc': metrics.accuracy_score(y_test,test_log_preds),\n",
        "'test_conf': confusion_matrix(y_test,test_log_preds),\n",
        "'test_precision': metrics.precision_score(y_test,test_log_preds),\n",
        "'test_recall': metrics.recall_score(y_test,test_log_preds),\n",
        "'test_roc': roc_auc_score(y_test,test_log_preds)}\n"
      ],
      "metadata": {
        "id": "VXWlGR96Nb5X"
      },
      "execution_count": null,
      "outputs": []
    },
    {
      "cell_type": "code",
      "source": [
        "train_metrics"
      ],
      "metadata": {
        "colab": {
          "base_uri": "https://localhost:8080/"
        },
        "id": "J869VoNKPFvP",
        "outputId": "0e118188-28af-4b01-8f54-97229a01caea"
      },
      "execution_count": null,
      "outputs": [
        {
          "output_type": "execute_result",
          "data": {
            "text/plain": [
              "{'train_acc': 0.9893690459754245, 'train_conf': array([[12897,   154],\n",
              "        [    0,  1435]]), 'train_precision': 0.9030837004405287, 'train_recall': 1.0, 'train_roc': 0.994100068960233}"
            ]
          },
          "metadata": {},
          "execution_count": 72
        }
      ]
    },
    {
      "cell_type": "code",
      "source": [
        "test_metrics"
      ],
      "metadata": {
        "colab": {
          "base_uri": "https://localhost:8080/"
        },
        "id": "ND-L51JsPHJN",
        "outputId": "53573db2-1fc4-4b15-fdd1-790b33e2c71c"
      },
      "execution_count": null,
      "outputs": [
        {
          "output_type": "execute_result",
          "data": {
            "text/plain": [
              "{'test_acc': 0.8782608695652174, 'test_conf': array([[1358,   92],\n",
              "        [ 104,   56]]), 'test_precision': 0.3783783783783784, 'test_recall': 0.35, 'test_roc': 0.6432758620689656}"
            ]
          },
          "metadata": {},
          "execution_count": 73
        }
      ]
    },
    {
      "cell_type": "code",
      "source": [
        "test_conf = np.array([[1032,  128],\n",
        "        [  68,   60]])"
      ],
      "metadata": {
        "id": "8CqOBagQ_vMJ"
      },
      "execution_count": null,
      "outputs": []
    },
    {
      "cell_type": "code",
      "source": [
        "best_test_metrics = {'test_acc': 0.84, 'test_precision': 0.32, 'test_recall': 0.47, 'test_roc': 0.68}"
      ],
      "metadata": {
        "id": "UGxKjfYI-tyc"
      },
      "execution_count": null,
      "outputs": []
    },
    {
      "cell_type": "code",
      "source": [
        "best_test_metrics"
      ],
      "metadata": {
        "colab": {
          "base_uri": "https://localhost:8080/"
        },
        "id": "qGWQxVW5_AcG",
        "outputId": "21f19690-0f0a-4d0b-acf8-2851ceba6cc1"
      },
      "execution_count": null,
      "outputs": [
        {
          "output_type": "execute_result",
          "data": {
            "text/plain": [
              "{'test_acc': 0.84,\n",
              " 'test_precision': 0.32,\n",
              " 'test_recall': 0.47,\n",
              " 'test_roc': 0.68}"
            ]
          },
          "metadata": {},
          "execution_count": 66
        }
      ]
    },
    {
      "cell_type": "markdown",
      "source": [
        "## Feature inspection by permutation"
      ],
      "metadata": {
        "id": "m0ipVfBWMOgj"
      }
    },
    {
      "cell_type": "code",
      "source": [
        "from sklearn.inspection import permutation_importance\n",
        "\n",
        "def plot_feature_importances(perm_importance_result, feat_name):\n",
        "    \"\"\" bar plot the feature importance \"\"\"\n",
        "\n",
        "    fig, ax = plt.subplots(figsize=(20,10))\n",
        "\n",
        "    indices = perm_importance_result['importances_mean'].argsort()\n",
        "    plt.barh(range(len(indices)),\n",
        "             perm_importance_result['importances_mean'][indices],\n",
        "             xerr=perm_importance_result['importances_std'][indices])\n",
        "\n",
        "    ax.set_yticks(range(len(indices)))\n",
        "    _ = ax.set_yticklabels(feat_name[indices])\n",
        "    plt.xlabel(\"Feature importance\")\n",
        "    plt.ylabel(\"Features\")\n",
        "    plt.title(\"Feature importance by permutation\")\n",
        "    plt.savefig('/content/drive/MyDrive/Takehome-pipecandy/pics/New/feature_permutation23.png')\n",
        "\n",
        "    \n",
        "perm_importance_result_train = permutation_importance(\n",
        "    model, X_train, y_train, n_repeats=5)\n",
        "\n",
        "plot_feature_importances(perm_importance_result_train, X_train.columns)"
      ],
      "metadata": {
        "colab": {
          "base_uri": "https://localhost:8080/",
          "height": 626
        },
        "id": "bf1CSmZ1de7t",
        "outputId": "36516ca1-d2f4-4d8a-92c2-ad91c11f5b92"
      },
      "execution_count": null,
      "outputs": [
        {
          "output_type": "display_data",
          "data": {
            "text/plain": [
              "<Figure size 1440x720 with 1 Axes>"
            ],
            "image/png": "[encoded data removed]"
          },
          "metadata": {
            "needs_background": "light"
          }
        }
      ]
    },
    {
      "cell_type": "markdown",
      "source": [
        "## Rough"
      ],
      "metadata": {
        "id": "E2n1l0qWMTXG"
      }
    },
    {
      "cell_type": "code",
      "source": [
        "['cons_12m','margin_net_pow_ele','net_margin','forecast_meter_rent_12m','margin_gross_pow_ele','date_activ','pow_max','cons_last_month','date_modif_prod','date_renewal']"
      ],
      "metadata": {
        "colab": {
          "base_uri": "https://localhost:8080/"
        },
        "id": "Dr8gY0a6hhr2",
        "outputId": "77bb2f99-d2c0-471d-c234-3b6378f89408"
      },
      "execution_count": null,
      "outputs": [
        {
          "output_type": "execute_result",
          "data": {
            "text/plain": [
              "['cons_12m',\n",
              " 'margin_net_pow_ele',\n",
              " 'net_margin',\n",
              " 'forecast_meter_rent_12m',\n",
              " 'margin_gross_pow_ele',\n",
              " 'date_activ',\n",
              " 'pow_max',\n",
              " 'cons_last_month',\n",
              " 'date_modif_prod',\n",
              " 'date_renewal']"
            ]
          },
          "metadata": {},
          "execution_count": 59
        }
      ]
    }
  ]
}